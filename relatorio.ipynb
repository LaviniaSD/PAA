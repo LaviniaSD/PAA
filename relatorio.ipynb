{
 "cells": [
  {
   "cell_type": "markdown",
   "metadata": {},
   "source": [
    "# Trabalho A1\n",
    "\n",
    "Esse relatório descreve o trabalho desenvolvido para a disciplina de Projeto e Análise de Algoritmos, ministrada pelo professor Thiago Pinheiro de Araújo, no 4º período do curso de Ciência de Dados e IA. O objetivo do trabalho é **desenvolver um DataGrid utilizando a linguagem de programação Python para recebecer, ordenar, filtrar e selecionar dados.**\n",
    "\n",
    "O trabalho foi desenvolvido pelos seguintes alunos:\n",
    "\n",
    "- **Almir Augusto Fonseca** (221708004)\n",
    "- **Lavínia Silva Dias** (221708013)\n",
    "- **George Dutra** (221708043)\n",
    "- **Isabela Yabe Martinez** (221708032)\n",
    "\n",
    "---\n",
    "\n",
    "### Sumário:\n",
    "\n",
    "- [1. Estruturação básica](#1.-Estruturação-básica)\n",
    "- [2. Algoritmos de busca, ordenação e seleção](#2.-Algoritmos-de-busca,-ordenação-e-seleção)\n",
    "- [3. Comparação entre os algoritmos](#3.-Comparação-entre-os-algoritmos)\n",
    "- [4. Conclusão](#4.-Conclusão)\n",
    "\n",
    "---"
   ]
  },
  {
   "cell_type": "markdown",
   "metadata": {},
   "source": [
    "## 1. Estruturação básica\n",
    "\n",
    "O DataGrid foi desenvolvido utilizando a linguagem de programação Python, com o auxílio de algumas bibliotecas para tarefas secundárias (as quais não deveriam, necessariamente, ser implementadas pelos alunos). Abaixo, segue a lista de bibliotecas uttilizadas:\n",
    "\n",
    "- TODO: Listar as bibliotecas utilizadas e a função de cada uma no nosso trabalho\n",
    "\n",
    "Contudo, mesmo com o auxílio de bibliotecas, o trabalho foi desenvolvido de forma a implementar os algoritmos de busca, ordenação e seleção, de forma a entender o funcionamento de cada um deles e comparar a eficiência de cada um. E para estruturar o DataGrid, foram criadas as seguintes classes:\n",
    "\n",
    "- **Event**: classe responsável por armazenar os dados de um evento (`id`, `owner_id`, `creation_date`, `count`, `name` e `content`), representando uma linha/instância do DataGrid. Além desses campos, outra entrada foi adicionada para facilitar a implementação dos algoritmos de busca, ordenação e seleção: \n",
    "    - `timestamp`: representa o campo `creation_date` em formato de timestamp (um inteiro).\n",
    "- **DataGrid**: classe principal, responsável por armazenar as instâncias dos dados e realizar as operações de exibição, inserção, deleção, busca, ordenação e seleção. Além do atributo `list` (que armazena as instâncias de `Event`), foram adicionados outros atributos para facilitar a implementação dos algoritmos de busca, ordenação e seleção:\n",
    "    - `ordered_by`: aponta para o campo pelo qual a lista está ordenada (ou `None`, caso não esteja ordenada).\n",
    "    - `direction`: caso a lista esteja ordenada, indica a direção da ordenação, podendo ser crescente/ascendente (\"asc\") ou decrescente/descendente (\"desc\").\n",
    "    - `size`: indica o tamanho (número de instâncias) da lista.\n",
    "\n",
    "Além disso, alguns módulos e funções auxiliares foram criados para lidar com tarefas secundárias:\n",
    "\n",
    "- TODO: Listar os módulos e as funções auxiliares desenvolvidos e a função de cada uma no nosso trabalho\n",
    "\n",
    "Agora, tendo apresentado a estrutura básica do DataGrid, vamos apresentar e exemplificar o uso os algoritmos de busca, ordenação e seleção implementados através dos métodos da classe `DataGrid`."
   ]
  },
  {
   "cell_type": "markdown",
   "metadata": {},
   "source": []
  }
 ],
 "metadata": {
  "language_info": {
   "name": "python"
  },
  "orig_nbformat": 4
 },
 "nbformat": 4,
 "nbformat_minor": 2
}
