{
 "cells": [
  {
   "cell_type": "markdown",
   "metadata": {},
   "source": [
    "# Trabalho A1\n",
    "\n",
    "Esse relatório descreve o trabalho desenvolvido para a disciplina de Projeto e Análise de Algoritmos, ministrada pelo professor Thiago Pinheiro de Araújo, no 4º período do curso de Ciência de Dados e IA. O objetivo do trabalho é **desenvolver um DataGrid utilizando a linguagem de programação Python para recebecer, ordenar, filtrar e selecionar dados.**\n",
    "\n",
    "O trabalho foi desenvolvido pelos seguintes alunos:\n",
    "\n",
    "- **Almir Augusto Fonseca** (221708004)\n",
    "- **Lavínia Silva Dias** (221708013)\n",
    "- **George Dutra** (221708043)\n",
    "- **Isabela Yabe Martinez** (221708032)\n",
    "\n",
    "---\n",
    "\n",
    "### Sumário:\n",
    "\n",
    "- [1. Estruturação básica](#1.-Estruturação-básica)\n",
    "- [2. Algoritmos de busca, ordenação e seleção](#2.-Algoritmos-de-busca,-ordenação-e-seleção)\n",
    "- [3. Comparação entre os algoritmos](#3.-Comparação-entre-os-algoritmos)\n",
    "- [4. Conclusão](#4.-Conclusão)\n",
    "\n",
    "---"
   ]
  },
  {
   "cell_type": "markdown",
   "metadata": {},
   "source": [
    "## 1. Estruturação básica\n",
    "\n",
    "O DataGrid foi desenvolvido utilizando a linguagem de programação Python, com o auxílio de algumas bibliotecas para tarefas secundárias (as quais não deveriam, necessariamente, ser implementadas pelos alunos). Abaixo, segue a lista de bibliotecas utilizadas:\n",
    "\n",
    "- TODO: Listar as bibliotecas utilizadas e a função de cada uma no nosso trabalho\n",
    "\n",
    "Contudo, mesmo com o auxílio de bibliotecas, o trabalho foi desenvolvido de forma a implementar os algoritmos de busca, ordenação e seleção, de forma a entender o funcionamento de cada um deles e comparar a eficiência de cada um. E para estruturar o DataGrid, foram criadas as seguintes classes:\n",
    "\n",
    "- **Event**: classe responsável por armazenar os dados de um evento (`id`, `owner_id`, `creation_date`, `count`, `name` e `content`), representando uma linha/instância do DataGrid. Além desses campos, outra entrada foi adicionada para facilitar a implementação dos algoritmos de busca, ordenação e seleção: \n",
    "    - `timestamp`: representa o campo `creation_date` em formato de timestamp (um inteiro).\n",
    "- **DataGrid**: classe principal, responsável por armazenar as instâncias dos dados e realizar as operações de exibição, inserção, deleção, busca, ordenação e seleção. Além do atributo `list` (que armazena as instâncias de `Event`), foram adicionados outros atributos para facilitar a implementação dos algoritmos de busca, ordenação e seleção:\n",
    "    - `ordered_by`: aponta para o campo pelo qual a lista está ordenada (ou `None`, caso não esteja ordenada).\n",
    "    - `direction`: caso a lista esteja ordenada, indica a direção da ordenação, podendo ser crescente/ascendente (\"asc\") ou decrescente/descendente (\"desc\").\n",
    "    - `size`: indica o tamanho (número de instâncias) da lista.\n",
    "\n",
    "Além disso, alguns módulos e funções auxiliares foram criados para lidar com tarefas secundárias:\n",
    "\n",
    "- TODO: Listar os módulos e as funções auxiliares desenvolvidos e a função de cada uma no nosso trabalho\n",
    "- Função auxiliar `date_to_timestamp()`: Recebe uma string com data no formato padrão do datagrid, e retorna o timestamp equivalente;\n",
    "- Função auxiliar `string_lesser()`: Recebe duas strings, e retorna um booleano indicando se a primeira é menor que a segunda na ordem alfabética;\n",
    "\n",
    "Agora, tendo apresentado a estrutura básica do DataGrid, vamos apresentar e exemplificar o uso os algoritmos de busca, ordenação e seleção implementados através dos métodos da classe `DataGrid`."
   ]
  },
  {
   "cell_type": "markdown",
   "metadata": {},
   "source": [
    "## 2. Algoritmos de busca, ordenação e seleção\n",
    "\n",
    "### Algoritmos de Busca\n",
    "\n",
    "Através do método `Datagrid.search()` o usuário pode buscar por determinados Events no datagrid. Ele recebe como principais parâmetros o nome da coluna que será alvo da busca, e o valor que será procurado. Além disso, ele também possui um parâmetro opcional extra que define se deve ser usada a estratégia ótima para busca ou não. \n",
    "\n",
    "Como especificado, o método é separado em três abordagens diferentes de busca de acordo com a coluna em que a busca é feita:\n",
    "- \"ID\" ou \"Owner ID\": Procura por um único evento que corresponda ao passado pelo usuário;\n",
    "- \"Creation Date\" ou \"Count\": Procura por todos os eventos que possuam um valor pertencente ao intervalo `(start, end)` passado pelo usuário;\n",
    "- \"Name\" ou \"Content\": Procura por um evento cuja string da coluna pedida contenha a string passada pelo usuário.\n",
    "\n",
    "O método faz essa distinção automaticamente segundo a coluna passada pelo usuário, ou seja, não é possível fazer uma busca de uma abordagem não atrelada à coluna passada. \n",
    "\n",
    "A responsabilidade do método principal `search` é apenas verificar qual coluna foi passada, e chamar um método privado auxiliar que retornará os índices que atendem à busca. Com esses índices ele cria um novo DataGrid, insere os eventos encontrados nele, e o retorna ao usuário. A decisão de retornar um DataGrid foi feita pensando em praticidades, como a possibilidade de reutilizar métodos como `show()`, `copy()`, entre outros.\n",
    "\n",
    "A seguir, façamos uma análise aprofundada em cada método auxiliar de `search`.\n",
    "\n",
    "#### Exact Search\n",
    "\n",
    "Caso o usuário solicite uma busca nas colunas \"ID\" ou \"Owner ID\", é chamado o método auxiliar `Datagrid.__exact_search()`. Sua primeira ação é decidir qual estratégia abordar para a busca: \n",
    "\n",
    "- Caso o DataGrid esteja ordenado pela coluna em que a busca está sendo realizada (e o parâmetro `optimal` seja verdadeiro), é chamado o método auxiliar `Datagrid.__binary_exact_search()`, que implementa um algoritmo de busca binária otimizado. Este algoritmo começa se adaptando a quatro cenários possíveis:\n",
    "    - Caso a ordenação seja em ordem crescente, é implementada uma busca binária padrão, que procura pelo elemento no meio da lista e, caso não encontre, continue a busca na metade **direita** se o valor desejado for maior, ou na metade **esquerda** se for menor;\n",
    "    - Caso a ordenação seja em ordem decrescente, é necessário inverter a lógica da busca binária. Ela passará a continuar a busca na metade direita se o valor desejado for **menor**, e na metade esquerda se for **maior**;\n",
    "    - Caso a busca seja na coluna \"ID\", a comparação é feita com números, portanto é utilizada a comparação aritmética simples;\n",
    "    - Caso a busca seja na coluna \"Owner ID\", a comparação é feita com caracteres alfanuméricos, portanto é utilizada a função auxiliar `string_lesser()`.\n",
    "\n",
    "    Uma vez adaptada, a busca binária é realizada e é retornado um inteiro representando o índice em que foi encontrado o Event correspondente, ou `None` caso não seja encontrado nenhum. \n"
   ]
  }
 ],
 "metadata": {
  "language_info": {
   "name": "python"
  },
  "orig_nbformat": 4
 },
 "nbformat": 4,
 "nbformat_minor": 2
}
